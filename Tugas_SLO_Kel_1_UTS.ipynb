{
  "nbformat": 4,
  "nbformat_minor": 0,
  "metadata": {
    "kernelspec": {
      "display_name": "Python 3",
      "language": "python",
      "name": "python3"
    },
    "language_info": {
      "codemirror_mode": {
        "name": "ipython",
        "version": 3
      },
      "file_extension": ".py",
      "mimetype": "text/x-python",
      "name": "python",
      "nbconvert_exporter": "python",
      "pygments_lexer": "ipython3",
      "version": "3.7.4"
    },
    "colab": {
      "name": "Tugas_SLO_Kel_1_UTS_final.ipynb",
      "provenance": []
    }
  },
  "cells": [
    {
      "cell_type": "markdown",
      "metadata": {
        "id": "4syDP9FwERkn"
      },
      "source": [
        "# Tugas kuliah SLO (Statistical Learning Optimization) - Kelompok 1"
      ]
    },
    {
      "cell_type": "markdown",
      "metadata": {
        "id": "2hLWv8z0ERkq"
      },
      "source": [
        "# Kelompok_1\n",
        "\n",
        "Lyra Vega Ugi - 2101201021;\n",
        "Ahzanul Kholish - 2101201027;\n",
        "Annisa Humairani - 2101201028"
      ]
    },
    {
      "cell_type": "markdown",
      "metadata": {
        "id": "2ieqCJkTERkr"
      },
      "source": [
        "#### Dataset : Iris.csv\n",
        "#### Terdiri atas 6 column: Id, SepalLengthCm, SepalWidthCm, PetalLengthCm, PetalWidthCm, Species\n",
        "#### Input : SepalLengthCm, SepalWidthCm, PetalLengthCm, PetalWidthCm\n",
        "#### Output (Label) : Species --> Iris-setosa, Iris-versicolor, dan Iris-virginica\n",
        "#### Jumlah data (row) : 150, dengan masing2 tipe 50 sampe\n",
        "#### Metode: Prediction Artificial Neural Network (ANN)"
      ]
    },
    {
      "cell_type": "code",
      "metadata": {
        "id": "_bAe2th7ERkr",
        "outputId": "d8f5241b-3d80-4984-9f04-a387c8b579d0"
      },
      "source": [
        "# Mempersiapkan package yang akan digunakan\n",
        "import numpy as np  # library yang digunakan untuk operasi suatu array. perhitungan aljabar linear\n",
        "import pandas as pd # library yang digunakan untuk pembacaan dataset berupa csv. dataset processing\n",
        "import os # memperlihatkan  file dataset yang dipakai\n",
        "os.listdir('Documents/UTS_Kel_1_SLO/Data')"
      ],
      "execution_count": null,
      "outputs": [
        {
          "output_type": "execute_result",
          "data": {
            "text/plain": [
              "['Iris.csv']"
            ]
          },
          "metadata": {
            "tags": []
          },
          "execution_count": 8
        }
      ]
    },
    {
      "cell_type": "code",
      "metadata": {
        "id": "pMf_QDlUERkw",
        "outputId": "bfa07b63-2791-4728-b27d-f443043d9ecd"
      },
      "source": [
        "# Load dataset dari folder\n",
        "data_iris = pd.read_csv('Documents/Program Python/TUBES_SLO_UTS/dataset_iris/Iris.csv')\n",
        "print(data_iris)"
      ],
      "execution_count": null,
      "outputs": [
        {
          "output_type": "stream",
          "text": [
            "      Id  SepalLengthCm  SepalWidthCm  PetalLengthCm  PetalWidthCm  \\\n",
            "0      1            5.1           3.5            1.4           0.2   \n",
            "1      2            4.9           3.0            1.4           0.2   \n",
            "2      3            4.7           3.2            1.3           0.2   \n",
            "3      4            4.6           3.1            1.5           0.2   \n",
            "4      5            5.0           3.6            1.4           0.2   \n",
            "..   ...            ...           ...            ...           ...   \n",
            "145  146            6.7           3.0            5.2           2.3   \n",
            "146  147            6.3           2.5            5.0           1.9   \n",
            "147  148            6.5           3.0            5.2           2.0   \n",
            "148  149            6.2           3.4            5.4           2.3   \n",
            "149  150            5.9           3.0            5.1           1.8   \n",
            "\n",
            "            Species  \n",
            "0       Iris-setosa  \n",
            "1       Iris-setosa  \n",
            "2       Iris-setosa  \n",
            "3       Iris-setosa  \n",
            "4       Iris-setosa  \n",
            "..              ...  \n",
            "145  Iris-virginica  \n",
            "146  Iris-virginica  \n",
            "147  Iris-virginica  \n",
            "148  Iris-virginica  \n",
            "149  Iris-virginica  \n",
            "\n",
            "[150 rows x 6 columns]\n"
          ],
          "name": "stdout"
        }
      ]
    },
    {
      "cell_type": "code",
      "metadata": {
        "id": "MQw7mqcBERk0"
      },
      "source": [
        "# Normalisasi dataset untuk masing-masing column dengan pendekatan skala min - max, sehingga mempunyai fixed range [0,1]\n",
        "# Xnorm = (X - Xmin) / (Xmax - Xmin)\n",
        "def min_max_scaling(df):\n",
        "    # copy the dataframe\n",
        "    df_norm = df.copy()\n",
        "    # apply min-max scaling\n",
        "    for column in df_norm.columns:\n",
        "        df_norm[column] = (df_norm[column] - df_norm[column].min()) / (df_norm[column].max() - df_norm[column].min())\n",
        "    return df_norm"
      ],
      "execution_count": null,
      "outputs": []
    },
    {
      "cell_type": "code",
      "metadata": {
        "id": "OrsMtsAkERk4",
        "outputId": "20ba0f4d-f632-40e9-84dd-fa7d896d4063"
      },
      "source": [
        "# Normalisai dataset untuk masing-masing column dengan pendekatan skala min - max, sehingga mempunyai fixed range [0,1]\n",
        "norm_data_iris = min_max_scaling(data_iris[['SepalLengthCm', 'SepalWidthCm', 'PetalLengthCm','PetalWidthCm']])\n",
        "print(norm_data_iris)"
      ],
      "execution_count": null,
      "outputs": [
        {
          "output_type": "stream",
          "text": [
            "     SepalLengthCm  SepalWidthCm  PetalLengthCm  PetalWidthCm\n",
            "0         0.222222      0.625000       0.067797      0.041667\n",
            "1         0.166667      0.416667       0.067797      0.041667\n",
            "2         0.111111      0.500000       0.050847      0.041667\n",
            "3         0.083333      0.458333       0.084746      0.041667\n",
            "4         0.194444      0.666667       0.067797      0.041667\n",
            "..             ...           ...            ...           ...\n",
            "145       0.666667      0.416667       0.711864      0.916667\n",
            "146       0.555556      0.208333       0.677966      0.750000\n",
            "147       0.611111      0.416667       0.711864      0.791667\n",
            "148       0.527778      0.583333       0.745763      0.916667\n",
            "149       0.444444      0.416667       0.694915      0.708333\n",
            "\n",
            "[150 rows x 4 columns]\n"
          ],
          "name": "stdout"
        }
      ]
    },
    {
      "cell_type": "code",
      "metadata": {
        "id": "MHxVZmosERk7",
        "outputId": "0bd10490-78d6-47d3-9412-40f6344d05fc"
      },
      "source": [
        "# Konversi Species label setiap kelas menjadi index 0, 1 dan 2\n",
        "# Iris-setosa = 0\n",
        "# Iris-versicolor = 1\n",
        "# Iris-virginica = 2\n",
        "target_output = data_iris[['Species']].replace(['Iris-setosa','Iris-versicolor','Iris-virginica'],[0,1,2])\n",
        "print(target_output)"
      ],
      "execution_count": null,
      "outputs": [
        {
          "output_type": "stream",
          "text": [
            "     Species\n",
            "0          0\n",
            "1          0\n",
            "2          0\n",
            "3          0\n",
            "4          0\n",
            "..       ...\n",
            "145        2\n",
            "146        2\n",
            "147        2\n",
            "148        2\n",
            "149        2\n",
            "\n",
            "[150 rows x 1 columns]\n"
          ],
          "name": "stdout"
        }
      ]
    },
    {
      "cell_type": "code",
      "metadata": {
        "id": "0BAABqWlERk-",
        "outputId": "a1594998-7cd3-46ba-dc08-f318a246e454"
      },
      "source": [
        "# Dengan menggunakan pd.concat, maka menggabungkan label ke tabel normalization iris\n",
        "norm_data_iris = pd.concat([norm_data_iris, target_output], axis=1)\n",
        "print(norm_data_iris)"
      ],
      "execution_count": null,
      "outputs": [
        {
          "output_type": "stream",
          "text": [
            "     SepalLengthCm  SepalWidthCm  PetalLengthCm  PetalWidthCm  Species\n",
            "0         0.222222      0.625000       0.067797      0.041667        0\n",
            "1         0.166667      0.416667       0.067797      0.041667        0\n",
            "2         0.111111      0.500000       0.050847      0.041667        0\n",
            "3         0.083333      0.458333       0.084746      0.041667        0\n",
            "4         0.194444      0.666667       0.067797      0.041667        0\n",
            "..             ...           ...            ...           ...      ...\n",
            "145       0.666667      0.416667       0.711864      0.916667        2\n",
            "146       0.555556      0.208333       0.677966      0.750000        2\n",
            "147       0.611111      0.416667       0.711864      0.791667        2\n",
            "148       0.527778      0.583333       0.745763      0.916667        2\n",
            "149       0.444444      0.416667       0.694915      0.708333        2\n",
            "\n",
            "[150 rows x 5 columns]\n"
          ],
          "name": "stdout"
        }
      ]
    },
    {
      "cell_type": "code",
      "metadata": {
        "id": "Q9KkuYUBERlB",
        "outputId": "fd6547eb-dd96-4fb2-ddc9-40f693fd5659"
      },
      "source": [
        "# Define persentase data untuk \\\"test\\\", dan buat satu column (\\\"training\\\") untuk menentukan apakah data row untuk training atau test\n",
        "# True = data trainig\n",
        "# False = data test\n",
        "persentase_test_training = 90/100.0 #data training yang diambil adalah 90% dari jumlah dataset\n",
        "norm_data_iris['training'] = np.random.rand(len(norm_data_iris)) < persentase_test_training\n",
        "#len(norm_data_iris)\n",
        "print(norm_data_iris)"
      ],
      "execution_count": null,
      "outputs": [
        {
          "output_type": "stream",
          "text": [
            "     SepalLengthCm  SepalWidthCm  PetalLengthCm  PetalWidthCm  Species  \\\n",
            "0         0.222222      0.625000       0.067797      0.041667        0   \n",
            "1         0.166667      0.416667       0.067797      0.041667        0   \n",
            "2         0.111111      0.500000       0.050847      0.041667        0   \n",
            "3         0.083333      0.458333       0.084746      0.041667        0   \n",
            "4         0.194444      0.666667       0.067797      0.041667        0   \n",
            "..             ...           ...            ...           ...      ...   \n",
            "145       0.666667      0.416667       0.711864      0.916667        2   \n",
            "146       0.555556      0.208333       0.677966      0.750000        2   \n",
            "147       0.611111      0.416667       0.711864      0.791667        2   \n",
            "148       0.527778      0.583333       0.745763      0.916667        2   \n",
            "149       0.444444      0.416667       0.694915      0.708333        2   \n",
            "\n",
            "     training  \n",
            "0        True  \n",
            "1        True  \n",
            "2        True  \n",
            "3       False  \n",
            "4       False  \n",
            "..        ...  \n",
            "145      True  \n",
            "146     False  \n",
            "147      True  \n",
            "148      True  \n",
            "149      True  \n",
            "\n",
            "[150 rows x 6 columns]\n"
          ],
          "name": "stdout"
        }
      ]
    },
    {
      "cell_type": "code",
      "metadata": {
        "id": "7dPRpqftERlG",
        "outputId": "07e4ea58-087f-4f32-8972-0c45129a6254"
      },
      "source": [
        "# Buat dataset untuk training\n",
        "training_data_iris = norm_data_iris[norm_data_iris.training == True] #mengambil data train dengan norm_data_iris = true\n",
        "training_data_iris = training_data_iris.drop('training',axis=1).sample(frac=1) #menghilangkan kolom 'train' yang menampilkan true dan false\n",
        "#len(training_data_iris)\n",
        "print(training_data_iris) #menampilkan training_data_iris sebanyak 92% dari dataset"
      ],
      "execution_count": null,
      "outputs": [
        {
          "output_type": "stream",
          "text": [
            "     SepalLengthCm  SepalWidthCm  PetalLengthCm  PetalWidthCm  Species\n",
            "89        0.333333      0.208333       0.508475      0.500000        1\n",
            "122       0.944444      0.333333       0.966102      0.791667        2\n",
            "47        0.083333      0.500000       0.067797      0.041667        0\n",
            "101       0.416667      0.291667       0.694915      0.750000        2\n",
            "100       0.555556      0.541667       0.847458      1.000000        2\n",
            "..             ...           ...            ...           ...      ...\n",
            "23        0.222222      0.541667       0.118644      0.166667        0\n",
            "51        0.583333      0.500000       0.593220      0.583333        1\n",
            "40        0.194444      0.625000       0.050847      0.083333        0\n",
            "108       0.666667      0.208333       0.813559      0.708333        2\n",
            "16        0.305556      0.791667       0.050847      0.125000        0\n",
            "\n",
            "[138 rows x 5 columns]\n"
          ],
          "name": "stdout"
        }
      ]
    },
    {
      "cell_type": "code",
      "metadata": {
        "id": "YX3oavwdERlJ",
        "outputId": "20b802d2-ba76-4ac6-ad14-9ccf1fe2c5f9"
      },
      "source": [
        "# Buat dataset untuk test\n",
        "test_data_iris = norm_data_iris[norm_data_iris.training == False] #mengambil data test dengan norm_data_iris = false\n",
        "test_data_iris = test_data_iris.drop('training',axis=1).sample(frac=1) #menghilangkan kolom 'train' yang menampilkan true dan false\n",
        "#len(test_data_iris)\n",
        "print(test_data_iris) #menampilkan training_data_iris sebanyak 8% dari dataset"
      ],
      "execution_count": null,
      "outputs": [
        {
          "output_type": "stream",
          "text": [
            "     SepalLengthCm  SepalWidthCm  PetalLengthCm  PetalWidthCm  Species\n",
            "140       0.666667      0.458333       0.779661      0.958333        2\n",
            "3         0.083333      0.458333       0.084746      0.041667        0\n",
            "36        0.333333      0.625000       0.050847      0.041667        0\n",
            "146       0.555556      0.208333       0.677966      0.750000        2\n",
            "133       0.555556      0.333333       0.694915      0.583333        2\n",
            "62        0.472222      0.083333       0.508475      0.375000        1\n",
            "4         0.194444      0.666667       0.067797      0.041667        0\n",
            "88        0.361111      0.416667       0.525424      0.500000        1\n",
            "99        0.388889      0.333333       0.525424      0.500000        1\n",
            "110       0.611111      0.500000       0.694915      0.791667        2\n",
            "14        0.416667      0.833333       0.033898      0.041667        0\n",
            "144       0.666667      0.541667       0.796610      1.000000        2\n"
          ],
          "name": "stdout"
        }
      ]
    },
    {
      "cell_type": "code",
      "metadata": {
        "id": "H7N-frlwERlL",
        "outputId": "357aae22-9fd7-4597-9cc0-a0bfd5981928"
      },
      "source": [
        "# Mendefinisikan training input\\n\",\n",
        "training_inputs = training_data_iris.values[:,:4]\n",
        "#len(training_inputs)\n",
        "print(training_inputs)"
      ],
      "execution_count": null,
      "outputs": [
        {
          "output_type": "stream",
          "text": [
            "[[0.33333333 0.20833333 0.50847458 0.5       ]\n",
            " [0.94444444 0.33333333 0.96610169 0.79166667]\n",
            " [0.08333333 0.5        0.06779661 0.04166667]\n",
            " [0.41666667 0.29166667 0.69491525 0.75      ]\n",
            " [0.55555556 0.54166667 0.84745763 1.        ]\n",
            " [0.22222222 0.75       0.10169492 0.04166667]\n",
            " [0.33333333 0.16666667 0.45762712 0.375     ]\n",
            " [0.41666667 0.29166667 0.69491525 0.75      ]\n",
            " [0.52777778 0.33333333 0.6440678  0.70833333]\n",
            " [0.33333333 0.125      0.50847458 0.5       ]\n",
            " [0.66666667 0.54166667 0.79661017 0.83333333]\n",
            " [0.25       0.875      0.08474576 0.        ]\n",
            " [0.66666667 0.45833333 0.57627119 0.54166667]\n",
            " [0.08333333 0.66666667 0.         0.04166667]\n",
            " [0.69444444 0.5        0.83050847 0.91666667]\n",
            " [0.38888889 1.         0.08474576 0.125     ]\n",
            " [0.41666667 0.25       0.50847458 0.45833333]\n",
            " [0.22222222 0.625      0.06779661 0.04166667]\n",
            " [0.02777778 0.375      0.06779661 0.04166667]\n",
            " [0.69444444 0.41666667 0.76271186 0.83333333]\n",
            " [0.27777778 0.70833333 0.08474576 0.04166667]\n",
            " [0.52777778 0.58333333 0.74576271 0.91666667]\n",
            " [0.13888889 0.41666667 0.06779661 0.        ]\n",
            " [0.19444444 0.625      0.10169492 0.20833333]\n",
            " [0.41666667 0.29166667 0.49152542 0.45833333]\n",
            " [0.94444444 0.25       1.         0.91666667]\n",
            " [0.72222222 0.45833333 0.74576271 0.83333333]\n",
            " [0.11111111 0.5        0.10169492 0.04166667]\n",
            " [0.47222222 0.29166667 0.69491525 0.625     ]\n",
            " [0.52777778 0.375      0.55932203 0.5       ]\n",
            " [0.55555556 0.58333333 0.77966102 0.95833333]\n",
            " [0.61111111 0.41666667 0.81355932 0.875     ]\n",
            " [0.72222222 0.45833333 0.69491525 0.91666667]\n",
            " [0.38888889 0.20833333 0.6779661  0.79166667]\n",
            " [0.91666667 0.41666667 0.94915254 0.83333333]\n",
            " [0.58333333 0.5        0.72881356 0.91666667]\n",
            " [0.30555556 0.58333333 0.11864407 0.04166667]\n",
            " [0.11111111 0.5        0.05084746 0.04166667]\n",
            " [0.19444444 0.5        0.03389831 0.04166667]\n",
            " [0.66666667 0.41666667 0.6779661  0.66666667]\n",
            " [0.19444444 0.58333333 0.08474576 0.04166667]\n",
            " [0.13888889 0.58333333 0.10169492 0.04166667]\n",
            " [0.05555556 0.125      0.05084746 0.08333333]\n",
            " [0.02777778 0.5        0.05084746 0.04166667]\n",
            " [0.66666667 0.41666667 0.71186441 0.91666667]\n",
            " [0.38888889 0.375      0.54237288 0.5       ]\n",
            " [0.47222222 0.58333333 0.59322034 0.625     ]\n",
            " [0.16666667 0.45833333 0.08474576 0.        ]\n",
            " [0.30555556 0.79166667 0.11864407 0.125     ]\n",
            " [0.94444444 0.75       0.96610169 0.875     ]\n",
            " [0.36111111 0.29166667 0.54237288 0.5       ]\n",
            " [0.22222222 0.70833333 0.08474576 0.125     ]\n",
            " [0.         0.41666667 0.01694915 0.        ]\n",
            " [0.55555556 0.375      0.77966102 0.70833333]\n",
            " [0.22222222 0.75       0.08474576 0.08333333]\n",
            " [0.30555556 0.58333333 0.08474576 0.125     ]\n",
            " [0.75       0.5        0.62711864 0.54166667]\n",
            " [0.19444444 0.58333333 0.10169492 0.125     ]\n",
            " [0.83333333 0.375      0.89830508 0.70833333]\n",
            " [0.36111111 0.20833333 0.49152542 0.41666667]\n",
            " [0.25       0.29166667 0.49152542 0.54166667]\n",
            " [0.44444444 0.41666667 0.54237288 0.58333333]\n",
            " [0.13888889 0.41666667 0.06779661 0.08333333]\n",
            " [0.36111111 0.375      0.44067797 0.5       ]\n",
            " [0.58333333 0.33333333 0.77966102 0.83333333]\n",
            " [0.80555556 0.41666667 0.81355932 0.625     ]\n",
            " [0.58333333 0.33333333 0.77966102 0.875     ]\n",
            " [0.41666667 0.29166667 0.52542373 0.375     ]\n",
            " [0.55555556 0.29166667 0.66101695 0.70833333]\n",
            " [0.22222222 0.58333333 0.08474576 0.04166667]\n",
            " [0.63888889 0.375      0.61016949 0.5       ]\n",
            " [0.19444444 0.         0.42372881 0.375     ]\n",
            " [0.72222222 0.45833333 0.66101695 0.58333333]\n",
            " [0.38888889 0.41666667 0.54237288 0.45833333]\n",
            " [0.22222222 0.625      0.06779661 0.08333333]\n",
            " [0.16666667 0.45833333 0.08474576 0.        ]\n",
            " [0.52777778 0.08333333 0.59322034 0.58333333]\n",
            " [0.5        0.33333333 0.50847458 0.5       ]\n",
            " [0.77777778 0.41666667 0.83050847 0.83333333]\n",
            " [1.         0.75       0.91525424 0.79166667]\n",
            " [0.13888889 0.45833333 0.10169492 0.04166667]\n",
            " [0.58333333 0.45833333 0.76271186 0.70833333]\n",
            " [0.36111111 0.41666667 0.59322034 0.58333333]\n",
            " [0.80555556 0.66666667 0.86440678 1.        ]\n",
            " [0.38888889 0.33333333 0.59322034 0.5       ]\n",
            " [0.33333333 0.25       0.57627119 0.45833333]\n",
            " [0.16666667 0.41666667 0.06779661 0.04166667]\n",
            " [0.94444444 0.41666667 0.86440678 0.91666667]\n",
            " [0.36111111 0.33333333 0.66101695 0.79166667]\n",
            " [0.80555556 0.5        0.84745763 0.70833333]\n",
            " [0.44444444 0.41666667 0.69491525 0.70833333]\n",
            " [0.55555556 0.20833333 0.66101695 0.58333333]\n",
            " [0.33333333 0.16666667 0.47457627 0.41666667]\n",
            " [0.25       0.58333333 0.06779661 0.04166667]\n",
            " [0.44444444 0.5        0.6440678  0.70833333]\n",
            " [0.58333333 0.375      0.55932203 0.5       ]\n",
            " [0.61111111 0.41666667 0.71186441 0.79166667]\n",
            " [0.55555556 0.125      0.57627119 0.5       ]\n",
            " [0.47222222 0.41666667 0.6440678  0.70833333]\n",
            " [0.19444444 0.125      0.38983051 0.375     ]\n",
            " [0.22222222 0.20833333 0.33898305 0.41666667]\n",
            " [0.5        0.41666667 0.61016949 0.54166667]\n",
            " [0.19444444 0.41666667 0.10169492 0.04166667]\n",
            " [0.47222222 0.08333333 0.6779661  0.58333333]\n",
            " [0.30555556 0.41666667 0.59322034 0.58333333]\n",
            " [0.5        0.375      0.62711864 0.54166667]\n",
            " [0.16666667 0.20833333 0.59322034 0.66666667]\n",
            " [0.63888889 0.41666667 0.57627119 0.54166667]\n",
            " [0.30555556 0.70833333 0.08474576 0.04166667]\n",
            " [0.86111111 0.33333333 0.86440678 0.75      ]\n",
            " [0.5        0.41666667 0.66101695 0.70833333]\n",
            " [0.66666667 0.45833333 0.62711864 0.58333333]\n",
            " [0.38888889 0.75       0.11864407 0.08333333]\n",
            " [0.16666667 0.16666667 0.38983051 0.375     ]\n",
            " [0.69444444 0.33333333 0.6440678  0.54166667]\n",
            " [0.41666667 0.33333333 0.69491525 0.95833333]\n",
            " [0.16666667 0.45833333 0.08474576 0.        ]\n",
            " [0.08333333 0.58333333 0.06779661 0.08333333]\n",
            " [0.58333333 0.29166667 0.72881356 0.75      ]\n",
            " [0.61111111 0.41666667 0.76271186 0.70833333]\n",
            " [0.02777778 0.41666667 0.05084746 0.04166667]\n",
            " [0.22222222 0.75       0.15254237 0.125     ]\n",
            " [0.55555556 0.54166667 0.62711864 0.625     ]\n",
            " [0.5        0.33333333 0.62711864 0.45833333]\n",
            " [0.25       0.625      0.08474576 0.04166667]\n",
            " [0.47222222 0.375      0.59322034 0.58333333]\n",
            " [0.72222222 0.5        0.79661017 0.91666667]\n",
            " [0.19444444 0.54166667 0.06779661 0.04166667]\n",
            " [0.61111111 0.33333333 0.61016949 0.58333333]\n",
            " [0.33333333 0.91666667 0.06779661 0.04166667]\n",
            " [0.38888889 0.25       0.42372881 0.375     ]\n",
            " [0.5        0.25       0.77966102 0.54166667]\n",
            " [0.13888889 0.58333333 0.15254237 0.04166667]\n",
            " [0.22222222 0.54166667 0.11864407 0.16666667]\n",
            " [0.58333333 0.5        0.59322034 0.58333333]\n",
            " [0.19444444 0.625      0.05084746 0.08333333]\n",
            " [0.66666667 0.20833333 0.81355932 0.70833333]\n",
            " [0.30555556 0.79166667 0.05084746 0.125     ]]\n"
          ],
          "name": "stdout"
        }
      ]
    },
    {
      "cell_type": "code",
      "metadata": {
        "id": "1g4qJlSjERlO",
        "outputId": "c41486f7-8487-44e3-c004-30f474823e02"
      },
      "source": [
        "# Mendefinikan target outputs, dimana:\n",
        "# [1,0,0] = Iris-setosa\n",
        "# [0,1,0] = Iris-versicolor\n",
        "# [0,0,1] = Iris-virginica\n",
        "target_outputs = [[1,0,0],[0,1,0],[0,0,1]]\n",
        "target_outputs = np.array([target_outputs[int(x)] for x in training_data_iris.values[:,4:5]]) \n",
        "#len(target_outputs)\n",
        "target_outputs"
      ],
      "execution_count": null,
      "outputs": [
        {
          "output_type": "execute_result",
          "data": {
            "text/plain": [
              "array([[0, 1, 0],\n",
              "       [0, 0, 1],\n",
              "       [1, 0, 0],\n",
              "       [0, 0, 1],\n",
              "       [0, 0, 1],\n",
              "       [1, 0, 0],\n",
              "       [0, 1, 0],\n",
              "       [0, 0, 1],\n",
              "       [0, 0, 1],\n",
              "       [0, 1, 0],\n",
              "       [0, 0, 1],\n",
              "       [1, 0, 0],\n",
              "       [0, 1, 0],\n",
              "       [1, 0, 0],\n",
              "       [0, 0, 1],\n",
              "       [1, 0, 0],\n",
              "       [0, 1, 0],\n",
              "       [1, 0, 0],\n",
              "       [1, 0, 0],\n",
              "       [0, 0, 1],\n",
              "       [1, 0, 0],\n",
              "       [0, 0, 1],\n",
              "       [1, 0, 0],\n",
              "       [1, 0, 0],\n",
              "       [0, 1, 0],\n",
              "       [0, 0, 1],\n",
              "       [0, 0, 1],\n",
              "       [1, 0, 0],\n",
              "       [0, 1, 0],\n",
              "       [0, 1, 0],\n",
              "       [0, 0, 1],\n",
              "       [0, 0, 1],\n",
              "       [0, 0, 1],\n",
              "       [0, 0, 1],\n",
              "       [0, 0, 1],\n",
              "       [0, 0, 1],\n",
              "       [1, 0, 0],\n",
              "       [1, 0, 0],\n",
              "       [1, 0, 0],\n",
              "       [0, 1, 0],\n",
              "       [1, 0, 0],\n",
              "       [1, 0, 0],\n",
              "       [1, 0, 0],\n",
              "       [1, 0, 0],\n",
              "       [0, 0, 1],\n",
              "       [0, 1, 0],\n",
              "       [0, 1, 0],\n",
              "       [1, 0, 0],\n",
              "       [1, 0, 0],\n",
              "       [0, 0, 1],\n",
              "       [0, 1, 0],\n",
              "       [1, 0, 0],\n",
              "       [1, 0, 0],\n",
              "       [0, 0, 1],\n",
              "       [1, 0, 0],\n",
              "       [1, 0, 0],\n",
              "       [0, 1, 0],\n",
              "       [1, 0, 0],\n",
              "       [0, 0, 1],\n",
              "       [0, 1, 0],\n",
              "       [0, 1, 0],\n",
              "       [0, 1, 0],\n",
              "       [1, 0, 0],\n",
              "       [0, 1, 0],\n",
              "       [0, 0, 1],\n",
              "       [0, 0, 1],\n",
              "       [0, 0, 1],\n",
              "       [0, 1, 0],\n",
              "       [0, 0, 1],\n",
              "       [1, 0, 0],\n",
              "       [0, 1, 0],\n",
              "       [0, 1, 0],\n",
              "       [0, 1, 0],\n",
              "       [0, 1, 0],\n",
              "       [1, 0, 0],\n",
              "       [1, 0, 0],\n",
              "       [0, 1, 0],\n",
              "       [0, 1, 0],\n",
              "       [0, 0, 1],\n",
              "       [0, 0, 1],\n",
              "       [1, 0, 0],\n",
              "       [0, 0, 1],\n",
              "       [0, 1, 0],\n",
              "       [0, 0, 1],\n",
              "       [0, 1, 0],\n",
              "       [0, 1, 0],\n",
              "       [1, 0, 0],\n",
              "       [0, 0, 1],\n",
              "       [0, 0, 1],\n",
              "       [0, 0, 1],\n",
              "       [0, 0, 1],\n",
              "       [0, 1, 0],\n",
              "       [0, 1, 0],\n",
              "       [1, 0, 0],\n",
              "       [0, 1, 0],\n",
              "       [0, 1, 0],\n",
              "       [0, 0, 1],\n",
              "       [0, 1, 0],\n",
              "       [0, 0, 1],\n",
              "       [0, 1, 0],\n",
              "       [0, 1, 0],\n",
              "       [0, 1, 0],\n",
              "       [1, 0, 0],\n",
              "       [0, 0, 1],\n",
              "       [0, 1, 0],\n",
              "       [0, 1, 0],\n",
              "       [0, 0, 1],\n",
              "       [0, 1, 0],\n",
              "       [1, 0, 0],\n",
              "       [0, 0, 1],\n",
              "       [0, 0, 1],\n",
              "       [0, 1, 0],\n",
              "       [1, 0, 0],\n",
              "       [0, 1, 0],\n",
              "       [0, 1, 0],\n",
              "       [0, 0, 1],\n",
              "       [1, 0, 0],\n",
              "       [1, 0, 0],\n",
              "       [0, 0, 1],\n",
              "       [0, 0, 1],\n",
              "       [1, 0, 0],\n",
              "       [1, 0, 0],\n",
              "       [0, 1, 0],\n",
              "       [0, 1, 0],\n",
              "       [1, 0, 0],\n",
              "       [0, 1, 0],\n",
              "       [0, 0, 1],\n",
              "       [1, 0, 0],\n",
              "       [0, 1, 0],\n",
              "       [1, 0, 0],\n",
              "       [0, 1, 0],\n",
              "       [0, 0, 1],\n",
              "       [1, 0, 0],\n",
              "       [1, 0, 0],\n",
              "       [0, 1, 0],\n",
              "       [1, 0, 0],\n",
              "       [0, 0, 1],\n",
              "       [1, 0, 0]])"
            ]
          },
          "metadata": {
            "tags": []
          },
          "execution_count": 21
        }
      ]
    },
    {
      "cell_type": "markdown",
      "metadata": {
        "id": "sv8W5M4xERlR"
      },
      "source": [
        "# Membuat neural network forward propagation & back propagation\n",
        "\n",
        "Membuat neural network forward propagation\n",
        "3 layer yang dibuat: Input, hidden dan Output.\n",
        "\n",
        "Inputs = length dan width dari setiap species (fiturnya)\n",
        "Output = ada 3 masing-masingnya menandai bahwa itu speciesnnya. \n",
        "Contohnya adalah nilai 1, 0, 0 untuk output Iris-setosa atau 0, seperti yang sudah dijelaskan sebelumnya.\n",
        "\n",
        "synaptic_weights_1 adalah matriks dari weight yang menghubungkan input dan hidden layer. \n",
        "Setiap node di input layer menghubungkan masing-masing node di hidden layer.\n",
        "Input dikalikan weight lalu sigmoid dari sum input*weight akan menghasilkan output. \n",
        "Pada forward propagation akan mencari erornya, yaitu selisih dari prediksi output dengan actual output\n",
        "\n",
        "Membuat neural network backward propagation\n",
        "Error yang kita dapat pada forward propagation akan digunakan untuk adjustment.\n",
        "Adjustmen weightnya dengan backward propagation dengan rumus eror*input*turunan pertama output. Lalu akan mendapatkan adjustment_.\n",
        "\n",
        "Weight sebelumnya ditambahkan adjustment weight, dengan mengupdate setiap weight dan hidden layer dengan learning rate tertentu.\n",
        "Pada saat adjust weight nilai weight akan berubah-ubah nilainya lalu akan dimasukan kedalam rumus sigmoid.\n",
        "\n",
        "Kedua proses diatas akan dilakukan berulang-ulang sampai didapatkan nilai weight dan hidden layer yang dapat memberikan nilai error sekecil mungkin pada output layer (pada saat forward propagation).\n",
        "    \n",
        "Proses akan dilakukan dari forward propagation dan backwarard propagation seterusnya dilakukan berulang kali sampai akurasi sesuai yang kita inginkan."
      ]
    },
    {
      "cell_type": "code",
      "metadata": {
        "id": "eSnT_4fPERlS",
        "outputId": "6eb2fa9d-c40d-4fbb-c62c-f0037c0bf728"
      },
      "source": [
        "# Mendefinisikan jumlah input, hidden layer dan weighting (synaptic) antara input dan hidden layer\n",
        "jumlah_input = len(training_inputs[0])\n",
        "\n",
        "#jumlah_input\n",
        "jumlah_neuron_hidden_layer = 5\n",
        "\n",
        "# generate weighting (synaptic) antara input dan hidden layer\n",
        "np.random.seed(1) #seed untuk menghasilkan data yang sama pada nilai randomnya\n",
        "synaptic_weights_1 = 2 * np.random.random((jumlah_input,jumlah_neuron_hidden_layer))-1 #perhitungan weight_1= menghasilkan jumlah weights dengan cara random dari jumlah input *2 -1\n",
        "\n",
        "print(synaptic_weights_1)"
      ],
      "execution_count": null,
      "outputs": [
        {
          "output_type": "stream",
          "text": [
            "[[-0.16595599  0.44064899 -0.99977125 -0.39533485 -0.70648822]\n",
            " [-0.81532281 -0.62747958 -0.30887855 -0.20646505  0.07763347]\n",
            " [-0.16161097  0.370439   -0.5910955   0.75623487 -0.94522481]\n",
            " [ 0.34093502 -0.1653904   0.11737966 -0.71922612 -0.60379702]]\n"
          ],
          "name": "stdout"
        }
      ]
    },
    {
      "cell_type": "code",
      "metadata": {
        "id": "jdRXJiNgERlV",
        "outputId": "2588e686-a310-4781-e274-0e733b966824"
      },
      "source": [
        "# generate weighting (synaptic) antara hidden-layer dan output\n",
        "\n",
        "jumlah_output = len(target_outputs[0]) \n",
        "\n",
        "#jumlah_output\n",
        "synaptic_weights_2 = 2 * np.random.random((jumlah_neuron_hidden_layer, jumlah_output))-1 #perhitungan weight_2= menghasilkan jumlah weights dengan cara random dari jumlah input *2 -1\n",
        "synaptic_weights_2"
      ],
      "execution_count": null,
      "outputs": [
        {
          "output_type": "execute_result",
          "data": {
            "text/plain": [
              "array([[ 0.60148914,  0.93652315, -0.37315164],\n",
              "       [ 0.38464523,  0.7527783 ,  0.78921333],\n",
              "       [-0.82991158, -0.92189043, -0.66033916],\n",
              "       [ 0.75628501, -0.80330633, -0.15778475],\n",
              "       [ 0.91577906,  0.06633057,  0.38375423]])"
            ]
          },
          "metadata": {
            "tags": []
          },
          "execution_count": 23
        }
      ]
    },
    {
      "cell_type": "code",
      "metadata": {
        "id": "A8QoIkt-ERlY"
      },
      "source": [
        "# define fungsi sigmoid\n",
        "def sigmoid(x):\n",
        "    return 1/(1+np.exp(-x)) #dengan menggunakan rumus sigmoid normalization function 1/1+e^-x"
      ],
      "execution_count": null,
      "outputs": []
    },
    {
      "cell_type": "code",
      "metadata": {
        "id": "-7SN5qLlERlc"
      },
      "source": [
        "# define fungsi turunan signoid\\n\",\n",
        "def sigmoid_derivative(x):\n",
        "    return x * (1 - x) #untuk mengecek gradient dari fungsinya"
      ],
      "execution_count": null,
      "outputs": []
    },
    {
      "cell_type": "markdown",
      "metadata": {
        "id": "u9J2e0rrERlf"
      },
      "source": [
        "Dengan menggunakan persamaan-persamaan dibawah ini, kemudian realisasikan kedalam codingan\n",
        "\n",
        "# Forward Propagation\n",
        "    sigmoid \n",
        "    sigmoid sum (xi.wi) = x1.w1 + x2.w2 + x3.w3 + ...+ xn.wn\n",
        "    \n",
        "    sigmoid normalizing function\n",
        "    sigmoid (x) = 1/1+eksponen^(-x) --> sigmoid(x) = 1/+ eksponen ^(-sum xi.wi)\n",
        "    \n",
        "    error\n",
        "    error = output - actual output\n",
        "    \n",
        "    \n",
        "# Back Propagation \n",
        "    sigmoid_derivative\n",
        "    sigmoid_derivative(x) = x.(1-x)\n",
        "    \n",
        "    adjust weights\n",
        "    adjust weights= error . input . sigmoid_derivative(output)\n",
        "    \n",
        "    synaptic weights\n",
        "    synaptic weights= [input layer]T dot product [adjust weights]\n",
        "    "
      ]
    },
    {
      "cell_type": "code",
      "metadata": {
        "id": "TgQ28HRGERlg",
        "outputId": "54889893-238a-45de-b545-70a63c04b670"
      },
      "source": [
        "# Iteration process\n",
        "learning_rate = 0.01\n",
        "for i in range(50000):\n",
        "    # Analisa forward propagation untuk perhitungan output dan kalkulasi error\n",
        "    outputs_1 = sigmoid(np.dot(training_inputs,synaptic_weights_1)) # aktivasi nilai pada hidden layer\n",
        "    outputs_2 = sigmoid(np.dot(outputs_1,synaptic_weights_2)) # aktivasi nilai pada output layer\n",
        "    error = (target_outputs - outputs_2) #selisih nilai outputs dengan actual outputs\n",
        "    error_mean = abs(error).mean()\n",
        "\n",
        "    # Analisa back propagation untuk mendapatkan adjustment dan update weighting\n",
        "    adjustment_2 = error * sigmoid_derivative(outputs_2) #adjustment output layer\n",
        "    adjustment_1 = adjustment_2.dot(synaptic_weights_2.T) * sigmoid_derivative(outputs_1) #adjustment hidden layer\n",
        "\n",
        "    synaptic_weights_2 += outputs_1.T.dot(adjustment_2) * learning_rate #update weight output layer\n",
        "    synaptic_weights_1 += training_inputs.T.dot(adjustment_1) * learning_rate #update weight hidden layer\n",
        "\n",
        "print('synaptic weight antara input dan hidden layer setelah training: ')\n",
        "print(synaptic_weights_1)\n",
        "\n",
        "print('synaptic weight antara hidden layer dan output setelah training: ')\n",
        "print(synaptic_weights_2)\n",
        "\n",
        "print('output setelah training: ')\n",
        "print(outputs_2)\n",
        "\n",
        "#print(\"Error: \")\n",
        "#print(error)\n",
        "\n",
        "print(\"Error Mean: \")\n",
        "print(error_mean)"
      ],
      "execution_count": null,
      "outputs": [
        {
          "output_type": "stream",
          "text": [
            "synaptic weight antara input dan hidden layer setelah training: \n",
            "[[  4.34590065   3.41528947   0.01757905  -2.98000571  -3.08805909]\n",
            " [ -3.55216013 -10.07157326  -1.00946938   4.59778303  11.21680823]\n",
            " [ -4.37181849   8.23119468   1.06153072   0.96118893  -8.68718359]\n",
            " [  0.34459892   5.43612365   1.58169063  -3.29328153  -5.51934784]]\n",
            "synaptic weight antara hidden layer dan output setelah training: \n",
            "[[  1.58021422  19.29249256 -26.23446222]\n",
            " [ -5.02669566  14.32300031  -2.02795645]\n",
            " [ -2.21091257 -26.6071787   14.90319886]\n",
            " [  3.6972803   17.51823489 -25.8763102 ]\n",
            " [  6.64726476 -20.26889013  -8.27981647]]\n",
            "output setelah training: \n",
            "[[4.16542730e-03 9.01070119e-01 9.55678238e-02]\n",
            " [1.71547126e-03 4.49472029e-02 9.45706069e-01]\n",
            " [9.99884997e-01 4.52326656e-06 2.74667873e-13]\n",
            " [2.20030242e-03 4.88268587e-02 9.65904309e-01]\n",
            " [1.87880479e-03 6.13641235e-03 9.95548472e-01]\n",
            " [9.99922925e-01 1.31961584e-05 9.07907529e-14]\n",
            " [5.79375596e-03 9.92609878e-01 5.25559828e-03]\n",
            " [2.20030242e-03 4.88268587e-02 9.65904309e-01]\n",
            " [2.52980950e-03 2.41876366e-01 7.93493613e-01]\n",
            " [3.42690036e-03 8.58630873e-01 1.40991694e-01]\n",
            " [2.40802287e-03 5.79479427e-02 9.54525122e-01]\n",
            " [9.99936021e-01 4.45092572e-05 4.08716819e-14]\n",
            " [5.18988840e-03 9.79375239e-01 1.36184034e-02]\n",
            " [9.99925164e-01 1.83725920e-05 6.39719745e-14]\n",
            " [1.81106094e-03 1.23893777e-02 9.91752648e-01]\n",
            " [9.99933277e-01 3.41549135e-05 4.22356006e-14]\n",
            " [4.93276988e-03 9.74085303e-01 2.08313074e-02]\n",
            " [9.99910801e-01 1.52884624e-05 6.30563122e-14]\n",
            " [9.99801606e-01 3.81926594e-06 8.78957263e-13]\n",
            " [1.95927461e-03 4.97258744e-02 9.60698716e-01]\n",
            " [9.99920013e-01 2.11366907e-05 4.74784891e-14]\n",
            " [2.69465374e-03 5.66336007e-02 9.45258984e-01]\n",
            " [9.99848152e-01 1.44085348e-05 1.41273555e-13]\n",
            " [9.99849500e-01 8.19382357e-07 1.43188046e-12]\n",
            " [5.83913795e-03 9.84750767e-01 1.01088313e-02]\n",
            " [1.55036640e-03 2.73124625e-02 9.50869136e-01]\n",
            " [2.08509424e-03 7.91450531e-02 9.34911991e-01]\n",
            " [9.99870488e-01 3.76260013e-06 4.05748562e-13]\n",
            " [2.76677122e-03 2.36648465e-01 8.06376326e-01]\n",
            " [5.36606138e-03 9.72011733e-01 2.02913619e-02]\n",
            " [2.31095077e-03 2.36855623e-02 9.80019275e-01]\n",
            " [1.79948348e-03 1.19936050e-02 9.92171286e-01]\n",
            " [1.96023171e-03 8.14614134e-02 9.21579955e-01]\n",
            " [1.84233002e-03 2.37719822e-02 9.83779038e-01]\n",
            " [1.67963936e-03 2.22393597e-02 9.80100581e-01]\n",
            " [2.05628681e-03 2.58403820e-02 9.81777613e-01]\n",
            " [9.99881597e-01 1.44312539e-05 8.43556080e-14]\n",
            " [9.99887277e-01 6.89782041e-06 1.66968658e-13]\n",
            " [9.99885097e-01 1.89734777e-05 5.37340604e-14]\n",
            " [2.92729027e-03 5.20430981e-01 5.00085890e-01]\n",
            " [9.99899528e-01 8.94806483e-06 1.18854706e-13]\n",
            " [9.99899076e-01 4.94177872e-06 2.31843871e-13]\n",
            " [9.57469849e-01 1.52468181e-01 1.34920400e-10]\n",
            " [9.99893638e-01 3.91093473e-06 2.94946877e-13]\n",
            " [1.83773207e-03 4.01538305e-02 9.65619261e-01]\n",
            " [6.95788621e-03 9.72183855e-01 1.44268194e-02]\n",
            " [1.00005005e-02 9.63572379e-01 6.85707305e-03]\n",
            " [9.99864705e-01 1.31592966e-05 1.29010822e-13]\n",
            " [9.99913200e-01 6.77187559e-06 1.44211127e-13]\n",
            " [2.51977520e-03 5.24690648e-02 9.53743996e-01]\n",
            " [5.10334000e-03 9.29879593e-01 5.71805363e-02]\n",
            " [9.99906569e-01 4.96409912e-06 1.89801595e-13]\n",
            " [9.99889451e-01 7.49433409e-06 1.64815242e-13]\n",
            " [2.43542207e-03 7.94609377e-02 9.40161523e-01]\n",
            " [9.99919182e-01 9.93491931e-06 1.08502273e-13]\n",
            " [9.99855521e-01 7.61723561e-06 1.57998316e-13]\n",
            " [5.04005376e-03 9.77744432e-01 1.54413477e-02]\n",
            " [9.99865967e-01 2.37832205e-06 5.21268717e-13]\n",
            " [1.97566195e-03 6.46919045e-02 9.45852986e-01]\n",
            " [5.34678728e-03 9.82609159e-01 1.35849096e-02]\n",
            " [5.65480021e-03 9.15181209e-01 5.67407975e-02]\n",
            " [5.48462001e-03 9.21979042e-01 5.13168620e-02]\n",
            " [9.99767810e-01 5.80209377e-06 6.48583521e-13]\n",
            " [9.27163467e-03 9.87270277e-01 3.29942814e-03]\n",
            " [1.77918697e-03 1.76062451e-02 9.87860796e-01]\n",
            " [2.62933959e-03 3.57967024e-01 6.70219180e-01]\n",
            " [1.67990344e-03 1.21726186e-02 9.91581616e-01]\n",
            " [7.53080445e-03 9.94651791e-01 2.97603962e-03]\n",
            " [2.32937741e-03 2.17225412e-01 8.05436454e-01]\n",
            " [9.99898015e-01 1.11387738e-05 9.37312253e-14]\n",
            " [4.47893288e-03 9.65949701e-01 2.78559374e-02]\n",
            " [4.27793862e-03 9.75301188e-01 2.18953234e-02]\n",
            " [3.88267737e-03 8.93805775e-01 9.58903289e-02]\n",
            " [1.06030044e-02 9.92067098e-01 2.03893747e-03]\n",
            " [9.99901471e-01 8.70775736e-06 1.07716778e-13]\n",
            " [9.99864705e-01 1.31592966e-05 1.29010822e-13]\n",
            " [2.68029829e-03 8.45780851e-01 8.73606178e-02]\n",
            " [5.19962244e-03 9.80666140e-01 1.33852401e-02]\n",
            " [1.83840207e-03 3.64001633e-02 9.70121092e-01]\n",
            " [2.95184925e-03 2.12156475e-01 8.00898014e-01]\n",
            " [9.99834012e-01 5.27068691e-06 4.43776093e-13]\n",
            " [2.94930105e-03 1.90004007e-01 8.31314655e-01]\n",
            " [6.13760771e-03 9.03990396e-01 5.31396240e-02]\n",
            " [1.90304321e-03 1.20892286e-02 9.91564031e-01]\n",
            " [5.46168109e-03 9.26747969e-01 5.51181534e-02]\n",
            " [5.08975082e-03 9.22255938e-01 6.66840936e-02]\n",
            " [9.99804326e-01 1.24810531e-05 2.32228454e-13]\n",
            " [1.78434911e-03 8.14817370e-02 8.80100458e-01]\n",
            " [2.35689063e-03 5.24270711e-02 9.61301218e-01]\n",
            " [2.48909251e-03 1.45572299e-01 8.82205178e-01]\n",
            " [3.26313226e-03 2.50434392e-01 7.56300020e-01]\n",
            " [2.63005158e-03 5.30990854e-01 4.67667663e-01]\n",
            " [4.94586524e-03 9.79922902e-01 1.64851663e-02]\n",
            " [9.99900458e-01 1.85046364e-05 5.11497211e-14]\n",
            " [4.53928072e-03 6.15315289e-01 3.00248175e-01]\n",
            " [5.04975944e-03 9.79119543e-01 1.51646243e-02]\n",
            " [2.24317867e-03 8.93130905e-02 9.31098233e-01]\n",
            " [3.22164465e-03 9.57132767e-01 2.47944280e-02]\n",
            " [3.21380049e-03 3.30966960e-01 6.90066631e-01]\n",
            " [6.60997821e-03 9.92703319e-01 4.48863965e-03]\n",
            " [9.15447597e-03 9.95509270e-01 1.27179421e-03]\n",
            " [5.33415061e-03 9.25885255e-01 5.48843968e-02]\n",
            " [9.99742473e-01 1.44775697e-05 4.08893550e-13]\n",
            " [2.25323223e-03 2.84505959e-01 7.12590150e-01]\n",
            " [7.01340485e-03 9.27070494e-01 3.10269971e-02]\n",
            " [4.49698804e-03 8.63626607e-01 1.23568075e-01]\n",
            " [3.01147900e-03 1.72761979e-01 8.48005502e-01]\n",
            " [4.67830549e-03 9.69754125e-01 2.24553194e-02]\n",
            " [9.99919834e-01 2.62267773e-05 3.63830737e-14]\n",
            " [1.93966360e-03 1.20337901e-01 8.58849061e-01]\n",
            " [3.07142153e-03 2.93890543e-01 7.34127192e-01]\n",
            " [4.23564413e-03 9.13104857e-01 7.47945270e-02]\n",
            " [9.99912766e-01 1.85074460e-05 4.78732936e-14]\n",
            " [8.45504501e-03 9.93981513e-01 2.58664778e-03]\n",
            " [3.46815682e-03 9.22241034e-01 6.35673835e-02]\n",
            " [1.64339876e-03 6.64609480e-03 9.95837395e-01]\n",
            " [9.99864705e-01 1.31592966e-05 1.29010822e-13]\n",
            " [9.99898330e-01 3.22504911e-06 3.24106124e-13]\n",
            " [2.02083900e-03 7.15098716e-02 9.42367060e-01]\n",
            " [2.56912027e-03 1.34467330e-01 8.93462257e-01]\n",
            " [9.99855656e-01 3.67606412e-06 4.65938208e-13]\n",
            " [9.99904788e-01 2.56654729e-06 3.95675264e-13]\n",
            " [5.97982061e-03 9.10336444e-01 4.97457576e-02]\n",
            " [5.09523118e-03 9.47769235e-01 4.43763953e-02]\n",
            " [9.99907086e-01 1.46557326e-05 6.66066593e-14]\n",
            " [4.23022872e-03 8.16578724e-01 1.70455946e-01]\n",
            " [1.83541314e-03 1.98497030e-02 9.85953375e-01]\n",
            " [9.99890897e-01 1.10540554e-05 9.76732266e-14]\n",
            " [3.35497992e-03 8.48294006e-01 1.40337497e-01]\n",
            " [9.99936698e-01 6.21133502e-05 2.54725201e-14]\n",
            " [8.03712581e-03 9.98101669e-01 7.89398005e-04]\n",
            " [2.82382655e-03 2.25826968e-01 8.16678031e-01]\n",
            " [9.99887643e-01 2.84868191e-06 4.71685572e-13]\n",
            " [9.99776298e-01 1.63719826e-06 1.71009826e-12]\n",
            " [5.74284494e-03 9.47270675e-01 3.23274968e-02]\n",
            " [9.99905558e-01 9.18089835e-06 1.00576336e-13]\n",
            " [1.86846584e-03 6.86193811e-02 9.32629699e-01]\n",
            " [9.99920858e-01 1.84818639e-05 4.96888626e-14]]\n",
            "Error Mean: \n",
            "0.0423500048675925\n"
          ],
          "name": "stdout"
        }
      ]
    },
    {
      "cell_type": "code",
      "metadata": {
        "scrolled": true,
        "id": "xjlYJxNIERli",
        "outputId": "ce8d0bbc-f102-425c-d7c0-4b9eb7c9fa8d"
      },
      "source": [
        "# Prediction menggunakan test dataset\n",
        "\n",
        "test_inputs = test_data_iris.values[:,:4]\n",
        "len(test_inputs)\n",
        "target_outputs = [[1,0,0],[0,1,0],[0,0,1]]\n",
        "target_outputs = np.array([target_outputs[int(x)] for x in test_data_iris.values[:,4:5]])\n",
        "# print(target_outputs)\n",
        "\n",
        "outputs_1 = sigmoid(np.dot(test_inputs,synaptic_weights_1)) # output pada hidden layer\n",
        "outputs_2 = sigmoid(np.dot(outputs_1,synaptic_weights_2)) # estimasi pada output layer \n",
        "\n",
        "\n",
        "print(np.round(outputs_2,3)) # Estimasi output\n",
        "\n",
        "# print(np.around(outputs_2))"
      ],
      "execution_count": null,
      "outputs": [
        {
          "output_type": "stream",
          "text": [
            "[[0.002 0.011 0.992]\n",
            " [1.    0.    0.   ]\n",
            " [1.    0.    0.   ]\n",
            " [0.002 0.14  0.852]\n",
            " [0.003 0.499 0.54 ]\n",
            " [0.004 0.994 0.003]\n",
            " [1.    0.    0.   ]\n",
            " [0.01  0.985 0.004]\n",
            " [0.006 0.963 0.025]\n",
            " [0.003 0.166 0.859]\n",
            " [1.    0.    0.   ]\n",
            " [0.002 0.008 0.995]]\n"
          ],
          "name": "stdout"
        }
      ]
    },
    {
      "cell_type": "code",
      "metadata": {
        "id": "GkKYvjwfERll",
        "outputId": "260c1fb7-7d19-4210-f772-1d299c1df19e"
      },
      "source": [
        "# Hasil Prediksi\n",
        "\n",
        "prediksi = np.around(outputs_2) #membulatkan hasil pada outputs\n",
        "\n",
        "# Discrepancy hasil estimasi dengan yang seharusnya \n",
        "discrepancy = np.argmax(prediksi, axis=1) == np.argmax(target_outputs, axis=1) # bandingkan hasil prediksi dengan label target\n",
        "# print(discrepancy)\n",
        "\n",
        "# Menghitung persentase hasil yang benar terhadap semua hasil test\n",
        "presentase_benar = np.sum(discrepancy)/len(discrepancy)\n",
        "# print(presentase_benar)\n",
        "\n",
        "hasil_test = test_data_iris[['Species']].replace([0,1,2],['Iris-setosa', 'Iris-versicolor', 'Iris-virginica'])\n",
        "hasil_test['Prediction'] = np.argmax(outputs_2, axis=1)\n",
        "hasil_test['Prediction'] = hasil_test['Prediction'].replace([0,1,2],['Iris-setosa', 'Iris-versicolor', 'Iris-virginica'])\n",
        "\n",
        "print(hasil_test)\n",
        "print('')\n",
        "print('Correct: ', sum(discrepancy), ' / ', len(hasil_test), (presentase_benar*100), '%')"
      ],
      "execution_count": null,
      "outputs": [
        {
          "output_type": "stream",
          "text": [
            "             Species       Prediction\n",
            "140   Iris-virginica   Iris-virginica\n",
            "3        Iris-setosa      Iris-setosa\n",
            "36       Iris-setosa      Iris-setosa\n",
            "146   Iris-virginica   Iris-virginica\n",
            "133   Iris-virginica   Iris-virginica\n",
            "62   Iris-versicolor  Iris-versicolor\n",
            "4        Iris-setosa      Iris-setosa\n",
            "88   Iris-versicolor  Iris-versicolor\n",
            "99   Iris-versicolor  Iris-versicolor\n",
            "110   Iris-virginica   Iris-virginica\n",
            "14       Iris-setosa      Iris-setosa\n",
            "144   Iris-virginica   Iris-virginica\n",
            "\n",
            "Correct:  12  /  12 100.0 %\n"
          ],
          "name": "stdout"
        }
      ]
    },
    {
      "cell_type": "markdown",
      "metadata": {
        "id": "68jzB6j7EWWv"
      },
      "source": [
        "# Kesimpulan\n",
        "\n",
        "Di Tugas SLO ini, kami menyajikan metode Artificial Neural Network (ANN) untuk memprediksi bunga Iris dengan 3 *species* atau kelas, yaitu Iris-virginica, Iris-setosa, dan Iris-versicolor. Setelah dinormalisasi, *dataset* dibagi menjadi dua, yaitu data *training* dan *testing*, dengan jumlah data *training* adalah 90/100 (90%) dari keseluruhan *dataset* dan data *testing* adalah sisanya. ANN yang terdiri dari 5 *hidden layer* diuji menjadi suatu metode yang sangat menguntungkan dalam melakukan prediksi dengan waktu komputasi yang cepat untuk 150 data pada CSV file. Hasil tertinggi yang dicapai menggunakan ANN adalah 0.04235 *error mean* dan 100% akurasi."
      ]
    }
  ]
}